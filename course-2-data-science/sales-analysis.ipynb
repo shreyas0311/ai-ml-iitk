import pandas as pd
import seaborn as sns

## Data Wrangling

df = pd.read_csv('AusApparalSales4thQrt2020.csv')

df

df.isna().sum()

df.columns

### Question 1(a,b)

dates_present = set([i.strftime('%d-%b-%Y') for i in pd.to_datetime(df['Date']).unique()])
dates_present

required_dates = set([i.strftime('%d-%b-%Y') for i in pd.date_range(start='1-oct-2020', end='31-dec-2020')])
required_dates - dates_present

for i in ['Time', 'State', 'Group']:
    df[i] = df[i].str.strip()
    print(df[i].unique(), '\n')

df[df['Date'] == '1-Oct-2020']

### Question 1(d)

- For this project, GroupBy() would be particularly valuable for:
    - Data Chunking:
        - Grouping transactions by date to analyze daily patterns
        - Creating customer segments based on transaction values
        - Organizing data by product categories for inventory analysis
    - Merging Operations:
        - Combining related transactions from the same customer
        - Aggregating sales data across different time periods
        - Consolidating product performance metrics

## Data Analysis
### Question 2(a)

df.describe()

df['Unit'].mode()

df['Sales'].mode()

### Question 2(b,c)

df.groupby('Group', as_index=False).agg({'Sales':'sum'}).sort_values('Sales')

### Question 2(d)

df['Date'] = pd.to_datetime(df['Date'])

df['Month'] = df['Date'].dt.month_name()

df['Week'] = df['Date'].dt.isocalendar().week

df

df.groupby(['Month', 'Group']).agg({'Sales': 'sum'})

df.groupby('Week').agg({'Sales': 'sum'})

## Data Visualization
### Question 3(a - i, ii)

df.pivot_table(index='State', columns='Group', values='Sales', aggfunc='sum').plot(kind='bar')

### Question 3(a - iii)

df.groupby(['Time', 'Group']).agg({'Sales': 'sum'})

df.pivot_table(index='Time',columns='Group',values='Sales',aggfunc='sum').plot(kind='bar')

### Question 3(b)
#### Weekly Chart

df.groupby(['Week', 'Group']).agg({'Sales': 'sum'})

## use seaborn to plot the data

sns.barplot(x='Week', y='Sales', hue='Group', data=df)

#### Monthly Chart

df.groupby(['Month', 'Group']).agg({'Sales': 'sum'})
sns.barplot(x='Month', y='Sales', hue='Group', data=df)

### Question 3(c)
- Seaborn is superior to matplotlib for data visualization because it's built on top of matplotlib but provides a more sophisticated, statistical-oriented, and aesthetically pleasing interface. It offers beautiful default styles, built-in themes, and color palettes that make graphs look professional with minimal code. Seaborn excels at handling pandas DataFrames directly and automatically understands the relationships between variables, making it especially powerful for statistical visualizations like distribution plots, regression plots, and categorical plots. While matplotlib requires more code for customization and styling, seaborn streamlines the process by providing high-level functions that create complex statistical visualizations with just a few lines of code, making it particularly efficient for data science and exploratory data analysis tasks.

## Report Generation
### Question 4(c - i)

df['Unit'].plot(kind='box')

df['Sales'].plot(kind='box')

### Question 3(c - ii)

sns.displot(data = df['Sales'], kde = True, bins = 10)

sns.displot(data = df['Unit'], kde = True, bins = 10)
